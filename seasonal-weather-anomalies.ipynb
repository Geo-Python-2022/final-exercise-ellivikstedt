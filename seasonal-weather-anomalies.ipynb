{
 "cells": [
  {
   "cell_type": "markdown",
   "metadata": {},
   "source": [
    "## Final exercise"
   ]
  },
  {
   "cell_type": "markdown",
   "metadata": {},
   "source": [
    "The goal of this exercise is to visualize seasonal temperature anomalies in Sodankylä during a 100+ years time period. The data is provided by the NOAA Global Historical Climate Network database and it is offered in Fahrenheit degrees. Results of this exercise include four different plots for every season. These plots include information about temperature anomalies between monhtly average temperature values and seasonally average values during reference time period 1951-1980."
   ]
  },
  {
   "cell_type": "markdown",
   "metadata": {},
   "source": [
    "### 1.Reading data\n",
    "First data is read with Python Pandas mo*dule and prepared for the analysis."
   ]
  },
  {
   "cell_type": "code",
   "execution_count": 83,
   "metadata": {},
   "outputs": [],
   "source": [
    "import pandas as pd\n",
    "\n",
    "# Setting file path for our data file\n",
    "fp = r\"data/2315676.txt\"\n",
    "\n",
    "# NaN values are converted and separator is defined.\n",
    "data = pd.read_csv(fp, skiprows=[1], delim_whitespace=True, na_values=[-9999])"
   ]
  },
  {
   "cell_type": "code",
   "execution_count": 84,
   "metadata": {},
   "outputs": [
    {
     "data": {
      "text/html": [
       "<div>\n",
       "<style scoped>\n",
       "    .dataframe tbody tr th:only-of-type {\n",
       "        vertical-align: middle;\n",
       "    }\n",
       "\n",
       "    .dataframe tbody tr th {\n",
       "        vertical-align: top;\n",
       "    }\n",
       "\n",
       "    .dataframe thead th {\n",
       "        text-align: right;\n",
       "    }\n",
       "</style>\n",
       "<table border=\"1\" class=\"dataframe\">\n",
       "  <thead>\n",
       "    <tr style=\"text-align: right;\">\n",
       "      <th></th>\n",
       "      <th>STATION</th>\n",
       "      <th>STATION_NAME</th>\n",
       "      <th>DATE</th>\n",
       "      <th>TAVG</th>\n",
       "      <th>TMAX</th>\n",
       "      <th>TMIN</th>\n",
       "    </tr>\n",
       "  </thead>\n",
       "  <tbody>\n",
       "    <tr>\n",
       "      <th>0</th>\n",
       "      <td>GHCND:FI000007501</td>\n",
       "      <td>SODANKYLA-AWS-FI</td>\n",
       "      <td>19080101</td>\n",
       "      <td>NaN</td>\n",
       "      <td>2.0</td>\n",
       "      <td>-37.0</td>\n",
       "    </tr>\n",
       "    <tr>\n",
       "      <th>1</th>\n",
       "      <td>GHCND:FI000007501</td>\n",
       "      <td>SODANKYLA-AWS-FI</td>\n",
       "      <td>19080102</td>\n",
       "      <td>NaN</td>\n",
       "      <td>6.0</td>\n",
       "      <td>-26.0</td>\n",
       "    </tr>\n",
       "    <tr>\n",
       "      <th>2</th>\n",
       "      <td>GHCND:FI000007501</td>\n",
       "      <td>SODANKYLA-AWS-FI</td>\n",
       "      <td>19080103</td>\n",
       "      <td>NaN</td>\n",
       "      <td>7.0</td>\n",
       "      <td>-27.0</td>\n",
       "    </tr>\n",
       "    <tr>\n",
       "      <th>3</th>\n",
       "      <td>GHCND:FI000007501</td>\n",
       "      <td>SODANKYLA-AWS-FI</td>\n",
       "      <td>19080104</td>\n",
       "      <td>NaN</td>\n",
       "      <td>-3.0</td>\n",
       "      <td>-27.0</td>\n",
       "    </tr>\n",
       "    <tr>\n",
       "      <th>4</th>\n",
       "      <td>GHCND:FI000007501</td>\n",
       "      <td>SODANKYLA-AWS-FI</td>\n",
       "      <td>19080105</td>\n",
       "      <td>NaN</td>\n",
       "      <td>4.0</td>\n",
       "      <td>-36.0</td>\n",
       "    </tr>\n",
       "  </tbody>\n",
       "</table>\n",
       "</div>"
      ],
      "text/plain": [
       "             STATION      STATION_NAME      DATE  TAVG  TMAX  TMIN\n",
       "0  GHCND:FI000007501  SODANKYLA-AWS-FI  19080101   NaN   2.0 -37.0\n",
       "1  GHCND:FI000007501  SODANKYLA-AWS-FI  19080102   NaN   6.0 -26.0\n",
       "2  GHCND:FI000007501  SODANKYLA-AWS-FI  19080103   NaN   7.0 -27.0\n",
       "3  GHCND:FI000007501  SODANKYLA-AWS-FI  19080104   NaN  -3.0 -27.0\n",
       "4  GHCND:FI000007501  SODANKYLA-AWS-FI  19080105   NaN   4.0 -36.0"
      ]
     },
     "execution_count": 84,
     "metadata": {},
     "output_type": "execute_result"
    }
   ],
   "source": [
    "data.head()"
   ]
  },
  {
   "cell_type": "code",
   "execution_count": 85,
   "metadata": {},
   "outputs": [],
   "source": [
    "# There's two columns that are not needed so these can be deleted.\n",
    "del data[\"STATION\"]\n",
    "del data[\"STATION_NAME\"]"
   ]
  },
  {
   "cell_type": "markdown",
   "metadata": {},
   "source": [
    "### 2. Missing values\n",
    "Now that the is read succesfully, the focus in on missing values. Missing values in average temperature (\"TAVG\") column are replaced with average of minimun (\"TMIN\") and maximum daily temperatures. These values are calculated to a new column called \"min_max_mean\"."
   ]
  },
  {
   "cell_type": "code",
   "execution_count": 86,
   "metadata": {},
   "outputs": [],
   "source": [
    "# Creating new column\n",
    "data[\"min_max_mean\"] = (data[\"TMAX\"] + data[\"TMIN\"]) / 2 \n",
    "\n",
    "# Replacing NaN values in TAVG column with values from min_max_mean column\n",
    "data.TAVG.fillna(data.min_max_mean, inplace=True)\n",
    "\n",
    "# Deleting oberscations that still have TMAX NaN values. These observations either had no value in TMIN and/or TMAX columns.\n",
    "data.dropna(subset=[\"TMAX\"], inplace=True)"
   ]
  },
  {
   "cell_type": "markdown",
   "metadata": {},
   "source": [
    "### 3. Converting Fahrenheit to Celsius__ \n",
    "Next Fahrenheit temperatures are converted to Celsius degrees. To do this, a function is created and used for every observation."
   ]
  },
  {
   "cell_type": "code",
   "execution_count": 87,
   "metadata": {},
   "outputs": [],
   "source": [
    "# First original TAVG column name is changed to \"TEMP\"\n",
    "data = data.rename(columns={\"TAVG\": \"TEMP_F\"})\n",
    "\n",
    "# New column for Celsius values is created\n",
    "data[\"TEMP_C\"] = \"\"\n",
    "\n",
    "# A function for converting the values is defined\n",
    "def fahr_to_celsius(fahrenheit_value):\n",
    "    converted_value = (fahrenheit_value - 32) / 1.8\n",
    "    return converted_value\n",
    "\n",
    "# Every value in TEMP_F column is converted with new function and values are stored in TEMP_C column\n",
    "data[\"TEMP_C\"] = data[\"TEMP_F\"].apply(fahr_to_celsius)"
   ]
  },
  {
   "cell_type": "markdown",
   "metadata": {},
   "source": [
    "### 4.Calculating seasonal average temperatures for every year\n",
    "Data is divided to four different seasons based on the observation date. For this purpose, new column for year and month is created. After this average temperature for every season is calculated with a function.\n"
   ]
  },
  {
   "cell_type": "code",
   "execution_count": 88,
   "metadata": {},
   "outputs": [],
   "source": [
    "# Date column is converted to string so that string slicing can be used to extract year and month numbers\n",
    "data[\"DATE_STR\"] = data[\"DATE\"].astype(str)\n",
    "\n",
    "# New columns for year and month are created and sliced numbers is stored in these columns. Month is needed now and year later on when working with reference time period\n",
    "data[\"YEAR\"] = data[\"DATE_STR\"].str.slice(start=0, stop=4)\n",
    "data[\"MONTH\"] = data[\"DATE_STR\"].str.slice(start=4, stop=6)\n",
    "\n",
    "\n",
    "# Function is created to categorize observations to different seasons based on month\n",
    "def set_season(row):\n",
    "    if row[\"MONTH\"] == \"12\" or row[\"MONTH\"] == \"01\" or row[\"MONTH\"] == \"02\":\n",
    "         return \"winter\"\n",
    "    if row[\"MONTH\"] == \"03\" or row[\"MONTH\"] == \"04\" or row[\"MONTH\"] == \"05\":\n",
    "        return \"spring\"\n",
    "    if row[\"MONTH\"] == \"06\" or row[\"MONTH\"] == \"07\" or row[\"MONTH\"] == \"08\":\n",
    "        return \"summer\"\n",
    "    if row[\"MONTH\"] == \"09\" or row[\"MONTH\"] == \"10\" or row[\"MONTH\"] == \"11\":\n",
    "        return \"autumn\"\n",
    "\n",
    "# New season column is filled with return values of set_season function   \n",
    "data[\"SEASON\"] = data.apply(lambda row: set_season(row), axis=1)"
   ]
  },
  {
   "cell_type": "markdown",
   "metadata": {},
   "source": [
    "Now that observations are categorized to four different seasons, mean values for every month can be calculated. For this purpose, a new dataframe and new function are created."
   ]
  },
  {
   "cell_type": "code",
   "execution_count": 89,
   "metadata": {},
   "outputs": [],
   "source": [
    "# New column for year and season together is created so that grouping is easier\n",
    "data[\"YEAR_SEASON\"] = data[\"YEAR\"] + data[\"SEASON\"]\n",
    "\n",
    "# Grouping is done based on year and season and grouped data is stored in variable called grouped\n",
    "grouped = data.groupby(by=\"YEAR_SEASON\")\n",
    "\n",
    "# Creating new dataframe for data grouped by season and year\n",
    "season_data = pd.DataFrame()\n",
    "\n",
    "# Defining which columns from grouped dataframe is used for mean calculatioions\n",
    "mean_cols = [\"TEMP_C\"]\n",
    "\n",
    "# Iterating over all of the groups\n",
    "for key, group in grouped:\n",
    "    # Calculating mean values\n",
    "    mean_values = group[mean_cols].mean()\n",
    "    # Adding key into the aggregated values\n",
    "    mean_values[\"YEAR_SEASON\"] = key\n",
    "    # Converting mean values series to dataframe with row orientation\n",
    "    row = mean_values.to_frame().transpose()\n",
    "    # Adding monthly mean values to season_data dataframe\n",
    "    season_data = pd.concat([season_data, row], ignore_index=True)"
   ]
  },
  {
   "cell_type": "markdown",
   "metadata": {},
   "source": [
    "### 5. Calculating seasonal average temperatures for the reference period__\n",
    "Data is divided to four different seasons and mean temperature for every season during reference period is calculated. Data selection is done so that reference period of 1951-1980 is covered."
   ]
  },
  {
   "cell_type": "code",
   "execution_count": 90,
   "metadata": {},
   "outputs": [],
   "source": [
    "# Converting year column to integer numbers so that filtering data is easier\n",
    "data[\"YEAR_INT\"] = data[\"YEAR\"].astype(int)\n",
    "\n",
    "# Selecting winter data from original dataframe\n",
    "winter_temps = data.loc[data[\"SEASON\"] == \"winter\"]\n",
    "winter_temps_ref = winter_temps.loc[(data[\"YEAR_INT\"] >= 1951) & (data[\"YEAR_INT\"] <= 1980)]\n",
    "\n",
    "# Calculating mean temperature for winter months of reference period\n",
    "ref_mean_winter = winter_temps_ref[\"TEMP_C\"].mean()"
   ]
  },
  {
   "cell_type": "markdown",
   "metadata": {},
   "source": [
    "Let's repeat same steps for every other season so we get three reference mean temperatures in their own variables."
   ]
  },
  {
   "cell_type": "code",
   "execution_count": 91,
   "metadata": {},
   "outputs": [],
   "source": [
    "# Spring\n",
    "spring_temps =  data.loc[data[\"SEASON\"] == \"spring\"]\n",
    "spring_temps_ref = spring_temps.loc[(data[\"YEAR_INT\"] >= 1951) & (data[\"YEAR_INT\"] <= 1980)]\n",
    "ref_mean_spring =  spring_temps_ref[\"TEMP_C\"].mean()\n",
    "\n",
    "# Summer\n",
    "summer_temps =  data.loc[data[\"SEASON\"] == \"summer\"]\n",
    "summer_temps_ref = summer_temps.loc[(data[\"YEAR_INT\"] >= 1951) & (data[\"YEAR_INT\"] <= 1980)]\n",
    "ref_mean_summer =  summer_temps_ref[\"TEMP_C\"].mean()\n",
    "\n",
    "# Autumn\n",
    "autumun_temps =  data.loc[data[\"SEASON\"] == \"autumn\"]\n",
    "autumn_temps_ref = autumun_temps.loc[(data[\"YEAR_INT\"] >= 1951) & (data[\"YEAR_INT\"] <= 1980)]\n",
    "ref_mean_autumn =  autumn_temps_ref[\"TEMP_C\"].mean()"
   ]
  },
  {
   "cell_type": "markdown",
   "metadata": {},
   "source": [
    "Mean temperatures for reference time period seem to be following: \n",
    "* winter: -13.6 °C <br> \n",
    "* spring: -2.3 °C <br> \n",
    "* summer: 12.4 °C <br> \n",
    "* autumun: -0.8 °C <br> \n",
    " → These values seem reasonable for Sodankylä weather station since it is located in Northern Finland. Because values seem to make sense the next step is to calculate differences between monthly average values and seasonally average temperatures during reference time period. For this purpose, mean temperature for every season during reference time period has to be filled to season_data dataframe."
   ]
  },
  {
   "cell_type": "code",
   "execution_count": 92,
   "metadata": {},
   "outputs": [],
   "source": [
    "# Let's create season column also into the season_data dataframe so it can be used to fill mean reference values\n",
    "season_data[\"SEASON\"] = season_data[\"YEAR_SEASON\"].str.slice(start=4)\n",
    "\n",
    "# Reference mean values are filled with a function. This function uses conditional statements to define which season should use which mean temperature\n",
    "def set_mean_ref_value(row):\n",
    "    if row[\"SEASON\"] == \"winter\":\n",
    "         return ref_mean_winter\n",
    "    if row[\"SEASON\"] == \"spring\":\n",
    "         return ref_mean_spring\n",
    "    if row[\"SEASON\"] == \"summer\":\n",
    "         return ref_mean_summer\n",
    "    if row[\"SEASON\"] == \"autumn\":\n",
    "         return ref_mean_autumn\n",
    "\n",
    "# New function is applied to dataframe and values are added to ref_mean column\n",
    "season_data[\"REF_MEAN\"] = season_data.apply(lambda row: set_mean_ref_value(row), axis=1)"
   ]
  },
  {
   "cell_type": "markdown",
   "metadata": {},
   "source": [
    "### 6. Calculating seasonal temperature anomalies for each year\n",
    "Now that every month in season_data dataframe has monthly average temperatures and matching seasonally average values from reference time period the differences can be calculated. To find out temperature anomalies, reference values are substracted from monthly values. "
   ]
  },
  {
   "cell_type": "code",
   "execution_count": 93,
   "metadata": {},
   "outputs": [
    {
     "data": {
      "text/html": [
       "<div>\n",
       "<style scoped>\n",
       "    .dataframe tbody tr th:only-of-type {\n",
       "        vertical-align: middle;\n",
       "    }\n",
       "\n",
       "    .dataframe tbody tr th {\n",
       "        vertical-align: top;\n",
       "    }\n",
       "\n",
       "    .dataframe thead th {\n",
       "        text-align: right;\n",
       "    }\n",
       "</style>\n",
       "<table border=\"1\" class=\"dataframe\">\n",
       "  <thead>\n",
       "    <tr style=\"text-align: right;\">\n",
       "      <th></th>\n",
       "      <th>TEMP_C</th>\n",
       "      <th>YEAR_SEASON</th>\n",
       "      <th>SEASON</th>\n",
       "      <th>REF_MEAN</th>\n",
       "      <th>DIFFERENCE</th>\n",
       "    </tr>\n",
       "  </thead>\n",
       "  <tbody>\n",
       "    <tr>\n",
       "      <th>0</th>\n",
       "      <td>-1.859217</td>\n",
       "      <td>1908autumn</td>\n",
       "      <td>autumn</td>\n",
       "      <td>-0.808692</td>\n",
       "      <td>-1.050525</td>\n",
       "    </tr>\n",
       "    <tr>\n",
       "      <th>1</th>\n",
       "      <td>-2.346743</td>\n",
       "      <td>1908spring</td>\n",
       "      <td>spring</td>\n",
       "      <td>-2.325973</td>\n",
       "      <td>-0.02077</td>\n",
       "    </tr>\n",
       "    <tr>\n",
       "      <th>2</th>\n",
       "      <td>11.425926</td>\n",
       "      <td>1908summer</td>\n",
       "      <td>summer</td>\n",
       "      <td>12.398578</td>\n",
       "      <td>-0.972652</td>\n",
       "    </tr>\n",
       "    <tr>\n",
       "      <th>3</th>\n",
       "      <td>-12.330779</td>\n",
       "      <td>1908winter</td>\n",
       "      <td>winter</td>\n",
       "      <td>-13.557795</td>\n",
       "      <td>1.227016</td>\n",
       "    </tr>\n",
       "    <tr>\n",
       "      <th>4</th>\n",
       "      <td>-0.155827</td>\n",
       "      <td>1909autumn</td>\n",
       "      <td>autumn</td>\n",
       "      <td>-0.808692</td>\n",
       "      <td>0.652865</td>\n",
       "    </tr>\n",
       "    <tr>\n",
       "      <th>...</th>\n",
       "      <td>...</td>\n",
       "      <td>...</td>\n",
       "      <td>...</td>\n",
       "      <td>...</td>\n",
       "      <td>...</td>\n",
       "    </tr>\n",
       "    <tr>\n",
       "      <th>447</th>\n",
       "      <td>-11.062092</td>\n",
       "      <td>2019winter</td>\n",
       "      <td>winter</td>\n",
       "      <td>-13.557795</td>\n",
       "      <td>2.495704</td>\n",
       "    </tr>\n",
       "    <tr>\n",
       "      <th>448</th>\n",
       "      <td>7.84127</td>\n",
       "      <td>2020autumn</td>\n",
       "      <td>autumn</td>\n",
       "      <td>-0.808692</td>\n",
       "      <td>8.649962</td>\n",
       "    </tr>\n",
       "    <tr>\n",
       "      <th>449</th>\n",
       "      <td>-0.970696</td>\n",
       "      <td>2020spring</td>\n",
       "      <td>spring</td>\n",
       "      <td>-2.325973</td>\n",
       "      <td>1.355277</td>\n",
       "    </tr>\n",
       "    <tr>\n",
       "      <th>450</th>\n",
       "      <td>14.438339</td>\n",
       "      <td>2020summer</td>\n",
       "      <td>summer</td>\n",
       "      <td>12.398578</td>\n",
       "      <td>2.039762</td>\n",
       "    </tr>\n",
       "    <tr>\n",
       "      <th>451</th>\n",
       "      <td>-9.009662</td>\n",
       "      <td>2020winter</td>\n",
       "      <td>winter</td>\n",
       "      <td>-13.557795</td>\n",
       "      <td>4.548133</td>\n",
       "    </tr>\n",
       "  </tbody>\n",
       "</table>\n",
       "<p>452 rows × 5 columns</p>\n",
       "</div>"
      ],
      "text/plain": [
       "        TEMP_C YEAR_SEASON  SEASON   REF_MEAN DIFFERENCE\n",
       "0    -1.859217  1908autumn  autumn  -0.808692  -1.050525\n",
       "1    -2.346743  1908spring  spring  -2.325973   -0.02077\n",
       "2    11.425926  1908summer  summer  12.398578  -0.972652\n",
       "3   -12.330779  1908winter  winter -13.557795   1.227016\n",
       "4    -0.155827  1909autumn  autumn  -0.808692   0.652865\n",
       "..         ...         ...     ...        ...        ...\n",
       "447 -11.062092  2019winter  winter -13.557795   2.495704\n",
       "448    7.84127  2020autumn  autumn  -0.808692   8.649962\n",
       "449  -0.970696  2020spring  spring  -2.325973   1.355277\n",
       "450  14.438339  2020summer  summer  12.398578   2.039762\n",
       "451  -9.009662  2020winter  winter -13.557795   4.548133\n",
       "\n",
       "[452 rows x 5 columns]"
      ]
     },
     "execution_count": 93,
     "metadata": {},
     "output_type": "execute_result"
    }
   ],
   "source": [
    "# New column for the anomalies are created and substraction of two values is calculated\n",
    "season_data[\"DIFFERENCE\"] = season_data[\"TEMP_C\"] - season_data[\"REF_MEAN\"]\n",
    "season_data"
   ]
  },
  {
   "cell_type": "markdown",
   "metadata": {},
   "source": [
    "Everything in season_data dataframe seems to be fine so we can move on to plotting the results."
   ]
  },
  {
   "cell_type": "markdown",
   "metadata": {},
   "source": [
    "### 7. Plotting the data\n",
    "Because the goal is to visualize seasonal temperature anomalies, we need four different plots. Subplots are used so we can have multiple plot in different panels on the same figure. This way anomalies in different seasons can be easily compared to each other."
   ]
  },
  {
   "cell_type": "code",
   "execution_count": 133,
   "metadata": {},
   "outputs": [],
   "source": [
    "# let's create indexing for the season_data dataframe because it was not done earlier and it makes plotting easier\n",
    "# First year column is created by slicing year_season column from season_data dataframe\n",
    "season_data[\"YEAR_STR\"] = season_data[\"YEAR_SEASON\"].str.slice(start=0, stop=4)\n",
    "\n",
    "# Next this column is converted to integer numbers\n",
    "season_data[\"YEAR\"] = season_data[\"YEAR_STR\"].astype(int)\n",
    "\n",
    "# And lastly these year numbers are used as indexes for the whole dataframe and can be used as a base for plotting\n",
    "season_data.set_index(\"YEAR\", inplace=True)"
   ]
  },
  {
   "cell_type": "markdown",
   "metadata": {},
   "source": [
    "Next step is to divide the season_data dataset to four different seasons so that they can be plotted separately."
   ]
  },
  {
   "cell_type": "code",
   "execution_count": 155,
   "metadata": {},
   "outputs": [],
   "source": [
    "# Only winter time observations from season_data dataframe are chosen\n",
    "winter_all = season_data.loc[(season_data[\"SEASON\"] == \"winter\")]\n",
    "\n",
    "# Anomaly column (difference) is saved to it's own variable so working with the data is easier\n",
    "winter = winter_all[\"DIFFERENCE\"]\n",
    "\n",
    "# Same steps are repeated for three other seasons\n",
    "spring_all = season_data.loc[(season_data[\"SEASON\"] == \"spring\")]\n",
    "spring = spring_all[\"DIFFERENCE\"]\n",
    "\n",
    "summer_all = season_data.loc[(season_data[\"SEASON\"] == \"summer\")]\n",
    "summer = summer_all[\"DIFFERENCE\"]\n",
    "\n",
    "autumn_all = season_data.loc[(season_data[\"SEASON\"] == \"autumn\")]\n",
    "autumn = autumn_all[\"DIFFERENCE\"]"
   ]
  },
  {
   "cell_type": "markdown",
   "metadata": {},
   "source": [
    "So that different plots can be easily compared to each other they should have same minimun and maximum limits for the y-axis. Next the minimum and maximum values of all the seasons are calculated for this purpose. "
   ]
  },
  {
   "cell_type": "code",
   "execution_count": 193,
   "metadata": {},
   "outputs": [],
   "source": [
    "# First lower limit for the y-axis is calculated by finding out smallest value of all minimum values\n",
    "min_temp = min(winter.min(), spring.min(), summer.min(), autumn.min())\n",
    "\n",
    "# Same procedure is done for upper limit of y-axis\n",
    "max_temp = max(winter.max(), spring.max(), summer.max(), autumn.max())\n",
    "\n",
    "# Let's also add little bith of extra to both ends so maximum and minimun values can also be seen from the plots\n",
    "max_temp = max_temp + 1.0\n",
    "min_temp = min_temp - 1.0"
   ]
  },
  {
   "cell_type": "markdown",
   "metadata": {},
   "source": [
    "Let's continue with preparation of the subplots."
   ]
  },
  {
   "cell_type": "code",
   "execution_count": 226,
   "metadata": {},
   "outputs": [
    {
     "data": {
      "image/png": "[encoded data removed]",
      "text/plain": [
       "<Figure size 1200x800 with 4 Axes>"
      ]
     },
     "metadata": {},
     "output_type": "display_data"
    }
   ],
   "source": [
    "# First let's import new module called matplotlib to make our plot figure\n",
    "import matplotlib.pyplot as plt\n",
    "\n",
    "# Figure size and layout are defined\n",
    "fig, axes = plt. subplots(nrows=2, ncols=2, figsize=(12,8))\n",
    "\n",
    "# Parsing axes to their own variables\n",
    "ax1 = axes[0][0]\n",
    "ax2 = axes[0][1]\n",
    "ax3 = axes[1][0]\n",
    "ax4 = axes[1][1]"
   ]
  },
  {
   "cell_type": "markdown",
   "metadata": {},
   "source": [
    "Next let's move on to the actual plotting."
   ]
  },
  {
   "cell_type": "code",
   "execution_count": null,
   "metadata": {},
   "outputs": [],
   "source": [
    "# First line with for all the plots is defined\n",
    "width = 2.0\n",
    "\n",
    "# Choosing the data for plots and defining line color and width\n",
    "winter.plot(ax=ax1, c=\"blue\", lw=width, ylim=[min_temp, max_temp])\n",
    "spring.plot(ax=ax2, c=\"orange\", lw=width, ylim=[min_temp, max_temp])\n",
    "summer.plot(ax=ax3, c=\"green\", lw=width, ylim=[min_temp, max_temp])\n",
    "autumn.plot(ax=ax4, c=\"brown\", lw=width, ylim=[min_temp, max_temp])\n",
    "\n",
    "# Setting figure title\n",
    "fig.suptitle(\"Seasonal temperature anomalies between observed mean temperatures and reference period (1951-1980) mean temperatures in Sodankylä during 1908-2020\")\n",
    "\n",
    "# Adding axis labes\n",
    "ax1.set_xlabel(\"Year\")\n",
    "ax2.set_xlabel(\"Year\")\n",
    "ax3.set_xlabel(\"Year\")\n",
    "ax4.set_xlabel(\"Year\")\n",
    "\n",
    "# Adding labels for every season\n",
    "ax1.text(pd.to_datetime(\"20130215\"), -25, \"Winter\")\n",
    "\n",
    "fig"
   ]
  },
  {
   "cell_type": "code",
   "execution_count": null,
   "metadata": {},
   "outputs": [],
   "source": []
  }
 ],
 "metadata": {
  "kernelspec": {
   "display_name": "Python 3 (ipykernel)",
   "language": "python",
   "name": "python3"
  },
  "language_info": {
   "codemirror_mode": {
    "name": "ipython",
    "version": 3
   },
   "file_extension": ".py",
   "mimetype": "text/x-python",
   "name": "python",
   "nbconvert_exporter": "python",
   "pygments_lexer": "ipython3",
   "version": "3.10.6"
  }
 },
 "nbformat": 4,
 "nbformat_minor": 4
}
